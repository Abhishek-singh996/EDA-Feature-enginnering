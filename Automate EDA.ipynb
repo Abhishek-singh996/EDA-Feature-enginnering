{
 "cells": [
  {
   "cell_type": "code",
   "execution_count": 1,
   "id": "1305fd3b",
   "metadata": {},
   "outputs": [],
   "source": [
    "##Automate EDA\n",
    "import pandas_profiling\n",
    "import seaborn as sns\n"
   ]
  },
  {
   "cell_type": "code",
   "execution_count": 2,
   "id": "a43d6536",
   "metadata": {},
   "outputs": [],
   "source": [
    "df = sns.load_dataset('tips')"
   ]
  },
  {
   "cell_type": "code",
   "execution_count": 3,
   "id": "98056dcd",
   "metadata": {},
   "outputs": [
    {
     "data": {
      "text/html": [
       "<div>\n",
       "<style scoped>\n",
       "    .dataframe tbody tr th:only-of-type {\n",
       "        vertical-align: middle;\n",
       "    }\n",
       "\n",
       "    .dataframe tbody tr th {\n",
       "        vertical-align: top;\n",
       "    }\n",
       "\n",
       "    .dataframe thead th {\n",
       "        text-align: right;\n",
       "    }\n",
       "</style>\n",
       "<table border=\"1\" class=\"dataframe\">\n",
       "  <thead>\n",
       "    <tr style=\"text-align: right;\">\n",
       "      <th></th>\n",
       "      <th>total_bill</th>\n",
       "      <th>tip</th>\n",
       "      <th>sex</th>\n",
       "      <th>smoker</th>\n",
       "      <th>day</th>\n",
       "      <th>time</th>\n",
       "      <th>size</th>\n",
       "    </tr>\n",
       "  </thead>\n",
       "  <tbody>\n",
       "    <tr>\n",
       "      <th>0</th>\n",
       "      <td>16.99</td>\n",
       "      <td>1.01</td>\n",
       "      <td>Female</td>\n",
       "      <td>No</td>\n",
       "      <td>Sun</td>\n",
       "      <td>Dinner</td>\n",
       "      <td>2</td>\n",
       "    </tr>\n",
       "    <tr>\n",
       "      <th>1</th>\n",
       "      <td>10.34</td>\n",
       "      <td>1.66</td>\n",
       "      <td>Male</td>\n",
       "      <td>No</td>\n",
       "      <td>Sun</td>\n",
       "      <td>Dinner</td>\n",
       "      <td>3</td>\n",
       "    </tr>\n",
       "    <tr>\n",
       "      <th>2</th>\n",
       "      <td>21.01</td>\n",
       "      <td>3.50</td>\n",
       "      <td>Male</td>\n",
       "      <td>No</td>\n",
       "      <td>Sun</td>\n",
       "      <td>Dinner</td>\n",
       "      <td>3</td>\n",
       "    </tr>\n",
       "    <tr>\n",
       "      <th>3</th>\n",
       "      <td>23.68</td>\n",
       "      <td>3.31</td>\n",
       "      <td>Male</td>\n",
       "      <td>No</td>\n",
       "      <td>Sun</td>\n",
       "      <td>Dinner</td>\n",
       "      <td>2</td>\n",
       "    </tr>\n",
       "    <tr>\n",
       "      <th>4</th>\n",
       "      <td>24.59</td>\n",
       "      <td>3.61</td>\n",
       "      <td>Female</td>\n",
       "      <td>No</td>\n",
       "      <td>Sun</td>\n",
       "      <td>Dinner</td>\n",
       "      <td>4</td>\n",
       "    </tr>\n",
       "  </tbody>\n",
       "</table>\n",
       "</div>"
      ],
      "text/plain": [
       "   total_bill   tip     sex smoker  day    time  size\n",
       "0       16.99  1.01  Female     No  Sun  Dinner     2\n",
       "1       10.34  1.66    Male     No  Sun  Dinner     3\n",
       "2       21.01  3.50    Male     No  Sun  Dinner     3\n",
       "3       23.68  3.31    Male     No  Sun  Dinner     2\n",
       "4       24.59  3.61  Female     No  Sun  Dinner     4"
      ]
     },
     "execution_count": 3,
     "metadata": {},
     "output_type": "execute_result"
    }
   ],
   "source": [
    "df.head()"
   ]
  },
  {
   "cell_type": "code",
   "execution_count": 4,
   "id": "e6543b6d",
   "metadata": {},
   "outputs": [],
   "source": [
    "from pandas_profiling import ProfileReport"
   ]
  },
  {
   "cell_type": "code",
   "execution_count": 6,
   "id": "25e85c89",
   "metadata": {},
   "outputs": [],
   "source": [
    "profile = ProfileReport(df,explorative=True,dark_mode=True)"
   ]
  },
  {
   "cell_type": "code",
   "execution_count": 7,
   "id": "1ab73396",
   "metadata": {},
   "outputs": [
    {
     "data": {
      "application/vnd.jupyter.widget-view+json": {
       "model_id": "97ac5c4754744a21bd0056b21e78482a",
       "version_major": 2,
       "version_minor": 0
      },
      "text/plain": [
       "Summarize dataset:   0%|          | 0/5 [00:00<?, ?it/s]"
      ]
     },
     "metadata": {},
     "output_type": "display_data"
    },
    {
     "data": {
      "application/vnd.jupyter.widget-view+json": {
       "model_id": "0777be99d3fd4d2087e8c4803b22fe30",
       "version_major": 2,
       "version_minor": 0
      },
      "text/plain": [
       "Generate report structure:   0%|          | 0/1 [00:00<?, ?it/s]"
      ]
     },
     "metadata": {},
     "output_type": "display_data"
    },
    {
     "data": {
      "application/vnd.jupyter.widget-view+json": {
       "model_id": "3169c0ba119749e6933b2702a4f5be49",
       "version_major": 2,
       "version_minor": 0
      },
      "text/plain": [
       "Render HTML:   0%|          | 0/1 [00:00<?, ?it/s]"
      ]
     },
     "metadata": {},
     "output_type": "display_data"
    },
    {
     "data": {
      "application/vnd.jupyter.widget-view+json": {
       "model_id": "2032067affb149d4b2e221f06c374be3",
       "version_major": 2,
       "version_minor": 0
      },
      "text/plain": [
       "Export report to file:   0%|          | 0/1 [00:00<?, ?it/s]"
      ]
     },
     "metadata": {},
     "output_type": "display_data"
    }
   ],
   "source": [
    "profile.to_file('output.html')"
   ]
  },
  {
   "cell_type": "code",
   "execution_count": 18,
   "id": "fac90678",
   "metadata": {},
   "outputs": [
    {
     "name": "stdout",
     "output_type": "stream",
     "text": [
      "Collecting package metadata (current_repodata.json): done\n",
      "Solving environment: done\n",
      "\n",
      "## Package Plan ##\n",
      "\n",
      "  environment location: /Users/abhisheksingh/miniforge3/envs/tensorflow\n",
      "\n",
      "  added / updated specs:\n",
      "    - dtale\n",
      "\n",
      "\n",
      "The following packages will be downloaded:\n",
      "\n",
      "    package                    |            build\n",
      "    ---------------------------|-----------------\n",
      "    brotli-python-1.0.9        |   py39hfb83b0d_6         356 KB  conda-forge\n",
      "    dash-2.2.0                 |     pyhd8ed1ab_0         6.5 MB  conda-forge\n",
      "    dash-bootstrap-components-1.0.3|     pyhd8ed1ab_0         106 KB  conda-forge\n",
      "    dash-core-components-2.0.0 |     pyhd8ed1ab_1           7 KB  conda-forge\n",
      "    dash-daq-0.5.0             |     pyh9f0ad1d_1         545 KB  conda-forge\n",
      "    dash-html-components-2.0.0 |     pyhd8ed1ab_1           8 KB  conda-forge\n",
      "    dash_colorscales-0.0.4     |     pyh9f0ad1d_0          59 KB  conda-forge\n",
      "    dtale-2.0.0                |     pyhd8ed1ab_0         9.2 MB  conda-forge\n",
      "    flask-compress-1.10.1      |     pyhd8ed1ab_0          13 KB  conda-forge\n",
      "    future-0.18.2              |   py39h2804cbe_4         715 KB  conda-forge\n",
      "    lz4-3.1.10                 |   py39h94f2da6_0         136 KB  conda-forge\n",
      "    missingno-0.4.2            |             py_1          12 KB  conda-forge\n",
      "    patsy-0.5.2                |     pyhd8ed1ab_0         188 KB  conda-forge\n",
      "    plotly-5.6.0               |     pyhd8ed1ab_0         6.9 MB  conda-forge\n",
      "    ppscore-1.2.0              |     pyhd3deb0d_0          15 KB  conda-forge\n",
      "    seaborn-0.11.2             |       hd8ed1ab_0           4 KB  conda-forge\n",
      "    seaborn-base-0.11.2        |     pyhd8ed1ab_0         223 KB  conda-forge\n",
      "    squarify-0.4.3             |             py_0           7 KB  conda-forge\n",
      "    statsmodels-0.13.2         |   py39h20ef057_0        10.6 MB  conda-forge\n",
      "    strsimpy-0.1.9             |     pyh9f0ad1d_0          22 KB  conda-forge\n",
      "    tenacity-8.0.1             |     pyhd8ed1ab_0          21 KB  conda-forge\n",
      "    xarray-0.19.0              |     pyhd8ed1ab_1         614 KB  conda-forge\n",
      "    xlrd-2.0.1                 |     pyhd8ed1ab_3          92 KB  conda-forge\n",
      "    ------------------------------------------------------------\n",
      "                                           Total:        36.3 MB\n",
      "\n",
      "The following NEW packages will be INSTALLED:\n",
      "\n",
      "  brotli-python      conda-forge/osx-arm64::brotli-python-1.0.9-py39hfb83b0d_6\n",
      "  dash               conda-forge/noarch::dash-2.2.0-pyhd8ed1ab_0\n",
      "  dash-bootstrap-co~ conda-forge/noarch::dash-bootstrap-components-1.0.3-pyhd8ed1ab_0\n",
      "  dash-core-compone~ conda-forge/noarch::dash-core-components-2.0.0-pyhd8ed1ab_1\n",
      "  dash-daq           conda-forge/noarch::dash-daq-0.5.0-pyh9f0ad1d_1\n",
      "  dash-html-compone~ conda-forge/noarch::dash-html-components-2.0.0-pyhd8ed1ab_1\n",
      "  dash_colorscales   conda-forge/noarch::dash_colorscales-0.0.4-pyh9f0ad1d_0\n",
      "  dtale              conda-forge/noarch::dtale-2.0.0-pyhd8ed1ab_0\n",
      "  flask-compress     conda-forge/noarch::flask-compress-1.10.1-pyhd8ed1ab_0\n",
      "  future             conda-forge/osx-arm64::future-0.18.2-py39h2804cbe_4\n",
      "  lz4                conda-forge/osx-arm64::lz4-3.1.10-py39h94f2da6_0\n",
      "  missingno          conda-forge/noarch::missingno-0.4.2-py_1\n",
      "  patsy              conda-forge/noarch::patsy-0.5.2-pyhd8ed1ab_0\n",
      "  plotly             conda-forge/noarch::plotly-5.6.0-pyhd8ed1ab_0\n",
      "  ppscore            conda-forge/noarch::ppscore-1.2.0-pyhd3deb0d_0\n",
      "  seaborn            conda-forge/noarch::seaborn-0.11.2-hd8ed1ab_0\n",
      "  seaborn-base       conda-forge/noarch::seaborn-base-0.11.2-pyhd8ed1ab_0\n",
      "  squarify           conda-forge/noarch::squarify-0.4.3-py_0\n",
      "  statsmodels        conda-forge/osx-arm64::statsmodels-0.13.2-py39h20ef057_0\n",
      "  strsimpy           conda-forge/noarch::strsimpy-0.1.9-pyh9f0ad1d_0\n",
      "  tenacity           conda-forge/noarch::tenacity-8.0.1-pyhd8ed1ab_0\n",
      "  xarray             conda-forge/noarch::xarray-0.19.0-pyhd8ed1ab_1\n",
      "  xlrd               conda-forge/noarch::xlrd-2.0.1-pyhd8ed1ab_3\n",
      "\n",
      "\n",
      "\n",
      "Downloading and Extracting Packages\n",
      "seaborn-0.11.2       | 4 KB      | ##################################### | 100% \n",
      "strsimpy-0.1.9       | 22 KB     | ##################################### | 100% \n",
      "dtale-2.0.0          | 9.2 MB    | ##################################### | 100% \n",
      "patsy-0.5.2          | 188 KB    | ##################################### | 100% \n",
      "dash-core-components | 7 KB      | ##################################### | 100% \n",
      "seaborn-base-0.11.2  | 223 KB    | ##################################### | 100% \n",
      "dash-2.2.0           | 6.5 MB    | ##################################### | 100% \n",
      "dash-daq-0.5.0       | 545 KB    | ##################################### | 100% \n",
      "tenacity-8.0.1       | 21 KB     | ##################################### | 100% \n",
      "squarify-0.4.3       | 7 KB      | ##################################### | 100% \n",
      "brotli-python-1.0.9  | 356 KB    | ##################################### | 100% \n",
      "xarray-0.19.0        | 614 KB    | ##################################### | 100% \n",
      "statsmodels-0.13.2   | 10.6 MB   | ##################################### | 100% \n",
      "flask-compress-1.10. | 13 KB     | ##################################### | 100% \n",
      "dash-html-components | 8 KB      | ##################################### | 100% \n",
      "xlrd-2.0.1           | 92 KB     | ##################################### | 100% \n",
      "dash_colorscales-0.0 | 59 KB     | ##################################### | 100% \n",
      "plotly-5.6.0         | 6.9 MB    | ##################################### | 100% \n",
      "dash-bootstrap-compo | 106 KB    | ##################################### | 100% \n",
      "missingno-0.4.2      | 12 KB     | ##################################### | 100% \n",
      "lz4-3.1.10           | 136 KB    | ##################################### | 100% \n",
      "future-0.18.2        | 715 KB    | ##################################### | 100% \n",
      "ppscore-1.2.0        | 15 KB     | ##################################### | 100% \n",
      "Preparing transaction: done\n",
      "Verifying transaction: done\n",
      "Executing transaction: done\n",
      "\n",
      "Note: you may need to restart the kernel to use updated packages.\n"
     ]
    }
   ],
   "source": [
    "conda install dtale -c conda-forge"
   ]
  },
  {
   "cell_type": "code",
   "execution_count": 4,
   "id": "d282cebf",
   "metadata": {},
   "outputs": [],
   "source": [
    "import pandas as pd\n",
    "import seaborn as sns\n",
    "import sklearn"
   ]
  },
  {
   "cell_type": "code",
   "execution_count": 5,
   "id": "edf0d172",
   "metadata": {},
   "outputs": [],
   "source": [
    "df = sns.load_dataset('titanic')"
   ]
  },
  {
   "cell_type": "code",
   "execution_count": 3,
   "id": "b437f9e4",
   "metadata": {},
   "outputs": [
    {
     "data": {
      "text/html": [
       "\n",
       "        <iframe\n",
       "            width=\"100%\"\n",
       "            height=\"475\"\n",
       "            src=\"http://Abhisheks-MacBook-Air.local:40000/dtale/iframe/1\"\n",
       "            frameborder=\"0\"\n",
       "            allowfullscreen\n",
       "            \n",
       "        ></iframe>\n",
       "        "
      ],
      "text/plain": [
       "<IPython.lib.display.IFrame at 0x14a723a30>"
      ]
     },
     "metadata": {},
     "output_type": "display_data"
    },
    {
     "data": {
      "text/plain": []
     },
     "execution_count": 3,
     "metadata": {},
     "output_type": "execute_result"
    }
   ],
   "source": [
    "import dtale\n",
    "dtale.show(df)"
   ]
  },
  {
   "cell_type": "code",
   "execution_count": 1,
   "id": "4ef7deba",
   "metadata": {},
   "outputs": [
    {
     "name": "stdout",
     "output_type": "stream",
     "text": [
      "Collecting sweetviz\n",
      "  Using cached sweetviz-2.1.3-py3-none-any.whl (15.1 MB)\n",
      "Requirement already satisfied: pandas!=1.0.0,!=1.0.1,!=1.0.2,>=0.25.3 in /Users/abhisheksingh/miniforge3/envs/tensorflow/lib/python3.9/site-packages (from sweetviz) (1.3.4)\n",
      "Requirement already satisfied: numpy>=1.16.0 in /Users/abhisheksingh/miniforge3/envs/tensorflow/lib/python3.9/site-packages (from sweetviz) (1.21.4)\n",
      "Requirement already satisfied: jinja2>=2.11.1 in /Users/abhisheksingh/miniforge3/envs/tensorflow/lib/python3.9/site-packages (from sweetviz) (3.0.3)\n",
      "Requirement already satisfied: importlib-resources>=1.2.0 in /Users/abhisheksingh/miniforge3/envs/tensorflow/lib/python3.9/site-packages (from sweetviz) (5.4.0)\n",
      "Requirement already satisfied: scipy>=1.3.2 in /Users/abhisheksingh/miniforge3/envs/tensorflow/lib/python3.9/site-packages (from sweetviz) (1.7.3)\n",
      "Requirement already satisfied: tqdm>=4.43.0 in /Users/abhisheksingh/miniforge3/envs/tensorflow/lib/python3.9/site-packages (from sweetviz) (4.62.3)\n",
      "Requirement already satisfied: matplotlib>=3.1.3 in /Users/abhisheksingh/miniforge3/envs/tensorflow/lib/python3.9/site-packages (from sweetviz) (3.5.0)\n",
      "Requirement already satisfied: zipp>=3.1.0 in /Users/abhisheksingh/miniforge3/envs/tensorflow/lib/python3.9/site-packages (from importlib-resources>=1.2.0->sweetviz) (3.6.0)\n",
      "Requirement already satisfied: MarkupSafe>=2.0 in /Users/abhisheksingh/miniforge3/envs/tensorflow/lib/python3.9/site-packages (from jinja2>=2.11.1->sweetviz) (2.0.1)\n",
      "Requirement already satisfied: cycler>=0.10 in /Users/abhisheksingh/miniforge3/envs/tensorflow/lib/python3.9/site-packages (from matplotlib>=3.1.3->sweetviz) (0.11.0)\n",
      "Requirement already satisfied: fonttools>=4.22.0 in /Users/abhisheksingh/miniforge3/envs/tensorflow/lib/python3.9/site-packages (from matplotlib>=3.1.3->sweetviz) (4.28.3)\n",
      "Requirement already satisfied: python-dateutil>=2.7 in /Users/abhisheksingh/miniforge3/envs/tensorflow/lib/python3.9/site-packages (from matplotlib>=3.1.3->sweetviz) (2.8.2)\n",
      "Requirement already satisfied: pillow>=6.2.0 in /Users/abhisheksingh/miniforge3/envs/tensorflow/lib/python3.9/site-packages (from matplotlib>=3.1.3->sweetviz) (8.4.0)\n",
      "Requirement already satisfied: packaging>=20.0 in /Users/abhisheksingh/miniforge3/envs/tensorflow/lib/python3.9/site-packages (from matplotlib>=3.1.3->sweetviz) (21.3)\n",
      "Requirement already satisfied: pyparsing>=2.2.1 in /Users/abhisheksingh/miniforge3/envs/tensorflow/lib/python3.9/site-packages (from matplotlib>=3.1.3->sweetviz) (3.0.6)\n",
      "Requirement already satisfied: kiwisolver>=1.0.1 in /Users/abhisheksingh/miniforge3/envs/tensorflow/lib/python3.9/site-packages (from matplotlib>=3.1.3->sweetviz) (1.3.2)\n",
      "Requirement already satisfied: pytz>=2017.3 in /Users/abhisheksingh/miniforge3/envs/tensorflow/lib/python3.9/site-packages (from pandas!=1.0.0,!=1.0.1,!=1.0.2,>=0.25.3->sweetviz) (2021.3)\n",
      "Requirement already satisfied: six>=1.5 in /Users/abhisheksingh/miniforge3/envs/tensorflow/lib/python3.9/site-packages (from python-dateutil>=2.7->matplotlib>=3.1.3->sweetviz) (1.15.0)\n",
      "Installing collected packages: sweetviz\n",
      "Successfully installed sweetviz-2.1.3\n",
      "Note: you may need to restart the kernel to use updated packages.\n"
     ]
    }
   ],
   "source": [
    "pip install sweetviz"
   ]
  },
  {
   "cell_type": "code",
   "execution_count": 2,
   "id": "3acc4e57",
   "metadata": {},
   "outputs": [],
   "source": [
    "import sweetviz as sv"
   ]
  },
  {
   "cell_type": "code",
   "execution_count": 7,
   "id": "d2ccaae3",
   "metadata": {},
   "outputs": [
    {
     "data": {
      "application/vnd.jupyter.widget-view+json": {
       "model_id": "85a36aefef2e437ebc6705920dd72147",
       "version_major": 2,
       "version_minor": 0
      },
      "text/plain": [
       "                                             |      | [  0%]   00:00 -> (? left)"
      ]
     },
     "metadata": {},
     "output_type": "display_data"
    },
    {
     "name": "stdout",
     "output_type": "stream",
     "text": [
      "Report newreport.html was generated! NOTEBOOK/COLAB USERS: the web browser MAY not pop up, regardless, the report IS saved in your notebook/colab files.\n"
     ]
    }
   ],
   "source": [
    "report = sv.analyze(df)\n",
    "report.show_html('newreport.html')"
   ]
  },
  {
   "cell_type": "code",
   "execution_count": null,
   "id": "56bcc86d",
   "metadata": {},
   "outputs": [],
   "source": []
  }
 ],
 "metadata": {
  "kernelspec": {
   "display_name": "Python 3.9 (tensorflow)",
   "language": "python",
   "name": "tensorflow"
  },
  "language_info": {
   "codemirror_mode": {
    "name": "ipython",
    "version": 3
   },
   "file_extension": ".py",
   "mimetype": "text/x-python",
   "name": "python",
   "nbconvert_exporter": "python",
   "pygments_lexer": "ipython3",
   "version": "3.9.7"
  }
 },
 "nbformat": 4,
 "nbformat_minor": 5
}
